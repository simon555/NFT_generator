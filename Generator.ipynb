{
 "cells": [
  {
   "cell_type": "code",
   "execution_count": 3,
   "id": "c00e1b0e-bbbc-4940-90f8-24e8e4a428d4",
   "metadata": {},
   "outputs": [],
   "source": [
    "import numpy as np\n",
    "import matplotlib.pyplot as plt\n",
    "import pandas as pd\n",
    "from PIL import Image\n",
    "import os\n",
    "import matplotlib\n",
    "from tqdm import tqdm\n",
    "import json"
   ]
  },
  {
   "cell_type": "code",
   "execution_count": null,
   "id": "b5b74569-6b0a-4c3a-944a-00b58ca75ff2",
   "metadata": {},
   "outputs": [],
   "source": []
  },
  {
   "cell_type": "markdown",
   "id": "2d3d60b0-8a3c-417d-8c7f-25ba85125b9e",
   "metadata": {},
   "source": [
    "# Define folder where to store your collection"
   ]
  },
  {
   "cell_type": "code",
   "execution_count": 4,
   "id": "84cda102-ad91-4181-a0df-63dfba120d6f",
   "metadata": {},
   "outputs": [],
   "source": [
    "folder_name = './creations/my_collec'"
   ]
  },
  {
   "cell_type": "code",
   "execution_count": 5,
   "id": "0ad9f51f-266c-48e8-8b70-4ea255265a57",
   "metadata": {},
   "outputs": [],
   "source": [
    "if not os.path.exists(folder_name):\n",
    "    os.makedirs(folder_name)"
   ]
  },
  {
   "cell_type": "code",
   "execution_count": null,
   "id": "54c54c20-f761-4435-8828-f922236ba3a5",
   "metadata": {},
   "outputs": [],
   "source": []
  },
  {
   "cell_type": "code",
   "execution_count": null,
   "id": "c100fe4e-b9ab-471e-a390-0f8e2cc8e840",
   "metadata": {},
   "outputs": [],
   "source": []
  },
  {
   "cell_type": "markdown",
   "id": "92435e1a-e162-459a-a652-c2d9e19c881a",
   "metadata": {},
   "source": [
    "# Basic Info"
   ]
  },
  {
   "cell_type": "markdown",
   "id": "3687ff34-d03e-4206-9334-21d8c57f3d7f",
   "metadata": {},
   "source": [
    "# 1) Name of project"
   ]
  },
  {
   "cell_type": "code",
   "execution_count": 6,
   "id": "0bdc83fe-bc00-49f4-8be8-017593cd2a03",
   "metadata": {},
   "outputs": [],
   "source": [
    "project_name = 'Test'"
   ]
  },
  {
   "cell_type": "markdown",
   "id": "33238321-8c0b-45d3-926d-90667cb98f86",
   "metadata": {},
   "source": [
    "# 2) How many images do you want to generate in total?\n"
   ]
  },
  {
   "cell_type": "code",
   "execution_count": 7,
   "id": "b98ed679-2943-4c18-9492-c4a78860b513",
   "metadata": {},
   "outputs": [],
   "source": [
    "image_count = 10"
   ]
  },
  {
   "cell_type": "code",
   "execution_count": null,
   "id": "69a10886-3a93-43ee-9acc-cd7bf163c5fe",
   "metadata": {},
   "outputs": [],
   "source": []
  },
  {
   "cell_type": "code",
   "execution_count": null,
   "id": "29f58a8b-df6e-4789-94de-3ce6a703f936",
   "metadata": {},
   "outputs": [],
   "source": []
  },
  {
   "cell_type": "markdown",
   "id": "a9b9a2ad-0b40-4a74-9203-5eec8fb5afd4",
   "metadata": {},
   "source": [
    "# Metadata"
   ]
  },
  {
   "cell_type": "markdown",
   "id": "8f8e34d8-31a7-4fc0-8000-1f6ab25c3326",
   "metadata": {},
   "source": [
    "# 1) How should each image be named in the metadata?\n",
    "## In the metadata, each image will be called NAME #ID.\n"
   ]
  },
  {
   "cell_type": "code",
   "execution_count": 8,
   "id": "10250515-5fd5-4526-80f0-ac807f8f5b6b",
   "metadata": {},
   "outputs": [],
   "source": [
    "basic_name = 'Rabbit'"
   ]
  },
  {
   "cell_type": "markdown",
   "id": "1176ca52-5b74-4443-a9bd-bc95df6fde39",
   "metadata": {},
   "source": [
    "# 2) What is the description of your collection?\n",
    "## In the metadata, the description will be the same for each image"
   ]
  },
  {
   "cell_type": "code",
   "execution_count": 9,
   "id": "24eb2b70-4222-4884-b894-cb3f10481b20",
   "metadata": {},
   "outputs": [],
   "source": [
    "description = 'blablbla'"
   ]
  },
  {
   "cell_type": "markdown",
   "id": "5a96f4dc-ece4-4e3b-89fb-88bb458a6b4b",
   "metadata": {},
   "source": [
    "# 3) What is the name of this collection?\n"
   ]
  },
  {
   "cell_type": "code",
   "execution_count": 10,
   "id": "f2d21b45-2158-4a20-8a9e-d1e23b21a77f",
   "metadata": {},
   "outputs": [],
   "source": [
    "collection_name = 'Red Rabbits'"
   ]
  },
  {
   "cell_type": "code",
   "execution_count": null,
   "id": "d92da95e-7b29-4df4-8ed9-0199b1c5f20b",
   "metadata": {},
   "outputs": [],
   "source": []
  },
  {
   "cell_type": "code",
   "execution_count": null,
   "id": "d87aed41-8e73-4a79-90e3-086d771a8209",
   "metadata": {},
   "outputs": [],
   "source": []
  },
  {
   "cell_type": "code",
   "execution_count": null,
   "id": "6d6933fa-56c1-4d61-b375-4956c83dae80",
   "metadata": {},
   "outputs": [],
   "source": []
  },
  {
   "cell_type": "markdown",
   "id": "aaea4f1e-2407-4be3-8d9b-3c6642e6f749",
   "metadata": {},
   "source": [
    "# MANUAL ACTION : DEFINE PROBA FILES\n",
    "## in the collection output folder, include the probability distribution for each trait FOR EACH LAYER.\n",
    "## Ex : the test collection has three layers - background, outfit and face. We have 3 probability files in the collection folder defined at the beginning"
   ]
  },
  {
   "cell_type": "code",
   "execution_count": null,
   "id": "95846ced-99c5-46b0-bec6-f93f6c73010b",
   "metadata": {},
   "outputs": [],
   "source": []
  },
  {
   "cell_type": "code",
   "execution_count": null,
   "id": "f947fbff-5b1f-4f0d-ae16-0fa0e1d70e50",
   "metadata": {},
   "outputs": [],
   "source": []
  },
  {
   "cell_type": "code",
   "execution_count": null,
   "id": "d1d22cb3-015f-4bbc-ae37-d2dd8421598c",
   "metadata": {},
   "outputs": [],
   "source": []
  },
  {
   "cell_type": "code",
   "execution_count": null,
   "id": "b715374c-0f37-4fc3-b872-0726754f97f8",
   "metadata": {},
   "outputs": [],
   "source": []
  },
  {
   "cell_type": "markdown",
   "id": "5cc75bbb-f2e3-45d0-979c-d2d1b5a7588a",
   "metadata": {},
   "source": [
    "# Layer Ordering"
   ]
  },
  {
   "cell_type": "code",
   "execution_count": 11,
   "id": "935d1bea-89f6-41aa-9a03-9fc925fb4231",
   "metadata": {},
   "outputs": [],
   "source": [
    "class Layer:\n",
    "    def __init__(self, name='Outfit', path_to_folder_of_images='files_test/Outfit/', image_type = 'png' , path_to_probas = './creations/my_collec/Outfit_probas.csv'):\n",
    "        self.path_to_folder_of_images = path_to_folder_of_images\n",
    "        \n",
    "        self.image_names_with_file_type =  [file for file in os.listdir(self.path_to_folder_of_images) \n",
    "         if file.split('.')[-1] == image_type]\n",
    "        \n",
    "#         self.image_names_with_file_type = os.listdir(self.path_to_folder_of_images)\n",
    "#         self.image_type = self.image_names_with_file_type[0].split('.')[-1]\n",
    "        self.image_type = image_type\n",
    "\n",
    "#         print(self.image_names_with_file_type)\n",
    "        self.image_names = [f.split('.')[0] for f in self.image_names_with_file_type]       \n",
    "        self.images = {}\n",
    "        self.name=name\n",
    "        for name in self.image_names:\n",
    "            path_to_image = os.path.join(self.path_to_folder_of_images, name + '.' + self.image_type)\n",
    "#             print('open {}'.format(path_to_image))\n",
    "            self.images[name] = Image.open(path_to_image)\n",
    "           \n",
    "            \n",
    "            \n",
    "        self.probas = pd.read_csv(path_to_probas)\n",
    "        self.path_to_probas = path_to_probas\n",
    "        proba_sum = self.probas.proba.sum()\n",
    "        assert proba_sum== 1, 'sum of probas for {} equals {} - needs to be equal to 1'.format(self.path_to_probas, proba_sum) \n",
    "        print('layer {} loaded successfully'.format(self.name))"
   ]
  },
  {
   "cell_type": "markdown",
   "id": "4db55811-f010-4d21-be8e-cea5c57c338e",
   "metadata": {},
   "source": [
    "### Here, we just create instances of the layers, the order does not matter"
   ]
  },
  {
   "cell_type": "code",
   "execution_count": 12,
   "id": "fdd0e14a-5c0a-4b3b-97da-9b9bec13d815",
   "metadata": {},
   "outputs": [
    {
     "name": "stdout",
     "output_type": "stream",
     "text": [
      "layer Background loaded successfully\n",
      "layer Outfit loaded successfully\n",
      "layer Face loaded successfully\n"
     ]
    }
   ],
   "source": [
    "Background_layer = Layer(name = 'Background', path_to_folder_of_images= 'files_test/Background/', image_type = 'png' , path_to_probas='./creations/my_collec/Background_probas.csv')\n",
    "Outfit_layer = Layer(name = 'Outfit', path_to_folder_of_images= 'files_test/Outfit/', image_type = 'png', path_to_probas='./creations/my_collec/Outfit_probas.csv')\n",
    "Face_layer = Layer(name = 'Face', path_to_folder_of_images= 'files_test/Face/', image_type = 'png' , path_to_probas='./creations/my_collec/Face_probas.csv')\n"
   ]
  },
  {
   "cell_type": "code",
   "execution_count": null,
   "id": "1becd5ea-cc75-48a6-b7b8-8790d9869c1d",
   "metadata": {},
   "outputs": [],
   "source": []
  },
  {
   "cell_type": "code",
   "execution_count": 13,
   "id": "a29890b5-3ff2-4113-827e-1d3d6596ddca",
   "metadata": {},
   "outputs": [],
   "source": [
    "class Collection:\n",
    "    def __init__(self, list_of_layers, image_count = image_count, project_name=project_name, basic_name=basic_name,collection_name=collection_name):\n",
    "        self.list_of_layers = list_of_layers\n",
    "        self.image_count=image_count\n",
    "        self.project_name=project_name\n",
    "        self.image_count=image_count\n",
    "        self.basic_name=basic_name\n",
    "        self.description=description\n",
    "        self.collection_name=collection_name\n",
    "    \n",
    "    def generate(self):\n",
    "        selected_traits = {}\n",
    "        for l in self.list_of_layers:\n",
    "            random_selection = np.random.choice(l.probas.trait.values,self.image_count, p=l.probas.proba.values)\n",
    "            selected_traits[l.name] = random_selection \n",
    "        \n",
    "        \n",
    "        output = []\n",
    "        for i in tqdm(range(self.image_count)):\n",
    "            metadata = {'project_name' : self.project_name,\n",
    "                       'image_count':self.image_count,\n",
    "                       'ntf_name':self.basic_name + '_{}'.format(i),\n",
    "                       'description':self.description,\n",
    "                       'collection_name':self.collection_name,\n",
    "                       'attributes':{}}\n",
    "            temp_list_of_images = []\n",
    "            for l in self.list_of_layers:\n",
    "                local_trait = selected_traits[l.name][i]\n",
    "                metadata['attributes'][l.name]=local_trait\n",
    "                local_image = l.images[local_trait]\n",
    "                temp_list_of_images += [local_image]\n",
    "                \n",
    "            combined_image = self.combine_images(temp_list_of_images)\n",
    "            output += [[combined_image, metadata]]\n",
    "        return(output)\n",
    "                \n",
    "                \n",
    "    def combine_images(self, list_of_images):\n",
    "        assert len(list_of_images)>0, 'no images given'\n",
    "        list_of_arrays = [np.asarray(img).astype('float') for img in list_of_images]\n",
    "\n",
    "\n",
    "        total_number_of_images = len(list_of_images)\n",
    "        \n",
    "        #respect the order of the layers\n",
    "        output_array = list_of_arrays[0]\n",
    "        for new_array in list_of_arrays[1:]:\n",
    "            mask = new_array>0\n",
    "            output_array = output_array*(1-mask) + mask*new_array\n",
    "        \n",
    "        output_image = Image.fromarray(output_array.astype('uint8'))\n",
    "        return(output_image)\n",
    "                \n",
    "            \n",
    "        "
   ]
  },
  {
   "cell_type": "markdown",
   "id": "11dac175-3b37-406c-994b-1ef5f478016d",
   "metadata": {},
   "source": [
    "# HERE THE ORDER OF LAYERS IN THE LIST MATTERS - BE CAREFUL TO ALWAYS PUT THE BACKGROUND FIRST"
   ]
  },
  {
   "cell_type": "code",
   "execution_count": 14,
   "id": "02835997-d906-4650-bc61-fafca6cd7efe",
   "metadata": {},
   "outputs": [],
   "source": [
    "list_of_layers = [Background_layer,Outfit_layer,Face_layer]"
   ]
  },
  {
   "cell_type": "code",
   "execution_count": 15,
   "id": "8d40c183-37cc-4516-8df1-3e22e04ed1a3",
   "metadata": {},
   "outputs": [],
   "source": [
    "Collec = Collection(list_of_layers)"
   ]
  },
  {
   "cell_type": "code",
   "execution_count": 16,
   "id": "4b41c85c-a947-4b61-83f8-7e4465f8bc8d",
   "metadata": {},
   "outputs": [
    {
     "name": "stderr",
     "output_type": "stream",
     "text": [
      "100%|█████████████████████████████████████████| 10/10 [00:00<00:00, 1680.61it/s]\n"
     ]
    }
   ],
   "source": [
    "c = Collec.generate()"
   ]
  },
  {
   "cell_type": "code",
   "execution_count": null,
   "id": "0ff7226f-8ad3-4920-a379-65cf4e30f8d9",
   "metadata": {},
   "outputs": [],
   "source": []
  },
  {
   "cell_type": "code",
   "execution_count": null,
   "id": "747c857d-a013-4e9a-a46d-b50f96170dc1",
   "metadata": {},
   "outputs": [],
   "source": []
  },
  {
   "cell_type": "code",
   "execution_count": 17,
   "id": "e933ac67-a86d-4159-9b15-9bd23b787249",
   "metadata": {},
   "outputs": [
    {
     "data": {
      "text/plain": [
       "<matplotlib.image.AxesImage at 0x125b8f310>"
      ]
     },
     "execution_count": 17,
     "metadata": {},
     "output_type": "execute_result"
    },
    {
     "data": {
      "image/png": "[encoded data removed]",
      "text/plain": [
       "<Figure size 432x288 with 1 Axes>"
      ]
     },
     "metadata": {
      "needs_background": "light"
     },
     "output_type": "display_data"
    }
   ],
   "source": [
    "plt.imshow(c[2][0])"
   ]
  },
  {
   "cell_type": "code",
   "execution_count": 18,
   "id": "54d0429c-1d9b-43fa-90e1-169a3fd370bf",
   "metadata": {},
   "outputs": [
    {
     "data": {
      "text/plain": [
       "{'project_name': 'Test',\n",
       " 'image_count': 10,\n",
       " 'ntf_name': 'Rabbit_2',\n",
       " 'description': 'blablbla',\n",
       " 'collection_name': 'Red Rabbits',\n",
       " 'attributes': {'Background': 'Green Background',\n",
       "  'Outfit': 'Cape Shirt',\n",
       "  'Face': 'Sleepy'}}"
      ]
     },
     "execution_count": 18,
     "metadata": {},
     "output_type": "execute_result"
    }
   ],
   "source": [
    "c[2][1]"
   ]
  },
  {
   "cell_type": "code",
   "execution_count": null,
   "id": "bf96e96c-8c41-4022-8573-b21604dbe6fc",
   "metadata": {},
   "outputs": [],
   "source": []
  },
  {
   "cell_type": "markdown",
   "id": "4dbbabba-8e78-4a79-a416-690e3abaeb06",
   "metadata": {},
   "source": [
    "# save collection"
   ]
  },
  {
   "cell_type": "code",
   "execution_count": 19,
   "id": "b018a6fd-c266-4d79-aa9e-d3842979f8ea",
   "metadata": {},
   "outputs": [],
   "source": [
    "image_folder = os.path.join(folder_name, 'images_generated')\n",
    "metadata_folder = os.path.join(folder_name, 'metadata_generated')"
   ]
  },
  {
   "cell_type": "code",
   "execution_count": null,
   "id": "2bc13bd9-62c9-454f-a20f-921bc3080133",
   "metadata": {},
   "outputs": [],
   "source": []
  },
  {
   "cell_type": "code",
   "execution_count": 20,
   "id": "d1e56dbf-e208-4e2d-a207-759d72ec31df",
   "metadata": {},
   "outputs": [],
   "source": [
    "if not os.path.exists(image_folder):\n",
    "    os.makedirs(image_folder)\n",
    "if not os.path.exists(metadata_folder):\n",
    "    os.makedirs(metadata_folder)"
   ]
  },
  {
   "cell_type": "code",
   "execution_count": 21,
   "id": "6f114754-5d5f-44d7-b32b-cb08d08a1718",
   "metadata": {},
   "outputs": [
    {
     "name": "stderr",
     "output_type": "stream",
     "text": [
      "100%|██████████████████████████████████████████| 10/10 [00:00<00:00, 889.92it/s]\n"
     ]
    }
   ],
   "source": [
    "for image, metadata in tqdm(c):\n",
    "    image_path = os.path.join(image_folder, metadata['ntf_name']+\".png\")\n",
    "    image.save(image_path, 'png')\n",
    "    \n",
    "    metadata_path = os.path.join(metadata_folder, metadata['ntf_name']+\".json\")\n",
    "    with open(metadata_path,'w') as fp:\n",
    "        json.dump(metadata, fp)\n"
   ]
  },
  {
   "cell_type": "code",
   "execution_count": null,
   "id": "48fbf6ad-bb53-4b73-8217-c0e99dfbb765",
   "metadata": {},
   "outputs": [],
   "source": []
  },
  {
   "cell_type": "code",
   "execution_count": null,
   "id": "d7fc5fe4-4ef5-49fd-b500-c481ffd36492",
   "metadata": {},
   "outputs": [],
   "source": []
  }
 ],
 "metadata": {
  "kernelspec": {
   "display_name": "Python 3 (ipykernel)",
   "language": "python",
   "name": "python3"
  },
  "language_info": {
   "codemirror_mode": {
    "name": "ipython",
    "version": 3
   },
   "file_extension": ".py",
   "mimetype": "text/x-python",
   "name": "python",
   "nbconvert_exporter": "python",
   "pygments_lexer": "ipython3",
   "version": "3.9.6"
  }
 },
 "nbformat": 4,
 "nbformat_minor": 5
}
